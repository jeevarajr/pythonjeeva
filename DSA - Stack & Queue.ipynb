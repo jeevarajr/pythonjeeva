{
 "cells": [
  {
   "cell_type": "code",
   "execution_count": 2,
   "metadata": {},
   "outputs": [
    {
     "name": "stdout",
     "output_type": "stream",
     "text": [
      "[10, 20, 30]\n",
      "30\n"
     ]
    },
    {
     "data": {
      "text/plain": [
       "30"
      ]
     },
     "execution_count": 2,
     "metadata": {},
     "output_type": "execute_result"
    }
   ],
   "source": [
    "#Queue\n",
    "'''\n",
    "Stack:\n",
    "    Push\n",
    "    Pop\n",
    "    Peak/Top\n",
    "    IsEmpty\n",
    "\n",
    "Stack can be implemented using: \n",
    "    List\n",
    "    Modules\n",
    "    \n",
    "Push - append()\n",
    "pop - pop()\n",
    "'''\n",
    "#Create Stacknusing List\n",
    "\n",
    "stack=[] #creating an empty stack\n",
    "stack.append(10)\n",
    "stack.append(20)\n",
    "stack.append(30)\n",
    "print(stack)\n",
    "#removing elements from stack\n",
    "a=stack.pop()\n",
    "print(a) # pop the most recent value LIFO \n",
    "\n",
    "#To check empty stack\n",
    "#2 ways\n",
    "stack=[]\n",
    "len(stack)==0\n",
    "\n",
    "#To access top most element\n",
    "stack.append(10)\n",
    "stack.append(20)\n",
    "stack.append(30) # Top most element\n",
    "stack[-1] #Top most "
   ]
  },
  {
   "cell_type": "code",
   "execution_count": 3,
   "metadata": {},
   "outputs": [
    {
     "name": "stdout",
     "output_type": "stream",
     "text": [
      "Enter the limit of stack3\n",
      "Enter the operation 1.push 2.pop 3. quit\n",
      "1\n",
      "Enter the element10\n",
      "['10']\n",
      "Enter the operation 1.push 2.pop 3. quit\n",
      "1\n",
      "Enter the element20\n",
      "['10', '20']\n",
      "Enter the operation 1.push 2.pop 3. quit\n",
      "1\n",
      "Enter the element30\n",
      "['10', '20', '30']\n",
      "Enter the operation 1.push 2.pop 3. quit\n",
      "1\n",
      "Sorry Memory is full\n",
      "Enter the operation 1.push 2.pop 3. quit\n",
      "2\n",
      "Removed element is: 30\n",
      "['10', '20']\n",
      "Enter the operation 1.push 2.pop 3. quit\n",
      "2\n",
      "Removed element is: 20\n",
      "['10']\n",
      "Enter the operation 1.push 2.pop 3. quit\n",
      "2\n",
      "Removed element is: 10\n",
      "[]\n",
      "Enter the operation 1.push 2.pop 3. quit\n",
      "2\n",
      "Stack is empty\n",
      "Enter the operation 1.push 2.pop 3. quit\n",
      "3\n"
     ]
    }
   ],
   "source": [
    "#DSA Stack Implementation using List\n",
    "#Example\n",
    "stack=[]\n",
    "\n",
    "def push():\n",
    "  if len(stack)==n:\n",
    "    print(\"Sorry Memory is full\") # Checking if stack is full\n",
    "  else:\n",
    "    element=input(\"Enter the element\")\n",
    "    stack.append(element)\n",
    "    print(stack)\n",
    "def pop():\n",
    "    if not stack:\n",
    "        print(\"Stack is empty\")  # checking if stack is empty\n",
    "    else:\n",
    "        e=stack.pop()\n",
    "        print(\"Removed element is:\",e)\n",
    "        print(stack)\n",
    "\n",
    "n=int(input(\"Enter the limit of stack\")) # Limiting size of stack\n",
    "\n",
    "while True:\n",
    "    print(\"Enter the operation 1.push 2.pop 3. quit\")\n",
    "    choice = int(input())\n",
    "    if choice==1:\n",
    "        push()\n",
    "    elif choice==2:\n",
    "        pop()\n",
    "    elif choice==3:\n",
    "        break\n",
    "    else:\n",
    "        print(\"Enter the correct operation\")"
   ]
  },
  {
   "cell_type": "code",
   "execution_count": 4,
   "metadata": {},
   "outputs": [
    {
     "name": "stdout",
     "output_type": "stream",
     "text": [
      "deque([10, 20, 30])\n",
      "30 20 10\n",
      "<queue.LifoQueue object at 0x000001E9BD1732C8>\n",
      "3 2 1\n"
     ]
    }
   ],
   "source": [
    "#DSA Stack Implementation using Modules\n",
    "#using collections\n",
    "import collections\n",
    "stack = collections.deque()  #can add both ways\n",
    "stack.append(10)\n",
    "stack.append(20)\n",
    "stack.append(30)\n",
    "print(stack)\n",
    "a=stack.pop()\n",
    "b=stack.pop()\n",
    "c=stack.pop()\n",
    "print(a,b,c)\n",
    "\n",
    "\n",
    "#using queue module put get functions\n",
    "import queue\n",
    "stack=queue.LifoQueue()\n",
    "stack.put(1)\n",
    "stack.put(2)\n",
    "stack.put(3)\n",
    "print(stack)\n",
    "x=stack.get()\n",
    "y=stack.get()\n",
    "z=stack.get()\n",
    "print(x,y,z)\n"
   ]
  },
  {
   "cell_type": "markdown",
   "metadata": {},
   "source": [
    "DSA Queue Implementation using List"
   ]
  },
  {
   "cell_type": "code",
   "execution_count": 5,
   "metadata": {},
   "outputs": [
    {
     "name": "stdout",
     "output_type": "stream",
     "text": [
      "[10, 20, 30]\n",
      "10 20 30\n",
      "[3, 2, 1]\n",
      "1 2 3\n",
      "100\n",
      "300\n"
     ]
    }
   ],
   "source": [
    "#Queue FIFO LILO\n",
    "#adding element --> enqueue --> append method\n",
    "#removing element --> dequeue --> pop method\n",
    "#can check if queue is full or empty\n",
    "\n",
    "#we use list.pop(0) --> coz removing on other side\n",
    "\n",
    "queue=[]\n",
    "queue.append(10)\n",
    "queue.append(20)\n",
    "queue.append(30)\n",
    "print(queue)\n",
    "a=queue.pop(0)  # Queue pops up in the same order\n",
    "b=queue.pop(0)\n",
    "c=queue.pop(0)\n",
    "print(a,b,c) \n",
    "\n",
    "#Insert element from left to right\n",
    "#Remove from right to left\n",
    "queue=[]\n",
    "queue.insert(0,1)  #insert first then moved to right if new value insertedd\n",
    "queue.insert(0,2)\n",
    "queue.insert(0,3)\n",
    "print(queue)  \n",
    "a=queue.pop() #returns FIFI LILO\n",
    "b=queue.pop()\n",
    "c=queue.pop()\n",
    "print(a,b,c)\n",
    "\n",
    "\n",
    "# index of queue\n",
    "\n",
    "queue=[]\n",
    "queue.append(100)\n",
    "queue.append(200)\n",
    "queue.append(300)\n",
    "print(queue[0])\n",
    "print(queue[-1])"
   ]
  },
  {
   "cell_type": "code",
   "execution_count": 6,
   "metadata": {},
   "outputs": [
    {
     "name": "stdout",
     "output_type": "stream",
     "text": [
      "Enter the operation 1.Add 2.Remove 3.Show 4.Quit\n",
      "1\n",
      "Enter the element5\n",
      "Element added in Queue is 5\n",
      "Enter the operation 1.Add 2.Remove 3.Show 4.Quit\n",
      "1\n",
      "Enter the element7\n",
      "Element added in Queue is 7\n",
      "Enter the operation 1.Add 2.Remove 3.Show 4.Quit\n",
      "1\n",
      "Enter the element9\n",
      "Element added in Queue is 9\n",
      "Enter the operation 1.Add 2.Remove 3.Show 4.Quit\n",
      "3\n",
      "[5, 7, 9]\n",
      "Enter the operation 1.Add 2.Remove 3.Show 4.Quit\n",
      "2\n",
      "Element removed from the queue is 9\n",
      "Enter the operation 1.Add 2.Remove 3.Show 4.Quit\n",
      "3\n",
      "[5, 7]\n",
      "Enter the operation 1.Add 2.Remove 3.Show 4.Quit\n",
      "4\n"
     ]
    }
   ],
   "source": [
    "#Queue with List Example\n",
    "queue=[]\n",
    "def enqueue():\n",
    "  element=int(input(\"Enter the element\"))\n",
    "  queue.append(element)\n",
    "  print(\"Element added in Queue is\",element)\n",
    "def dequeue():\n",
    "  if not queue:\n",
    "    print(\"Queue is empty\")\n",
    "  else:\n",
    "    r=queue.pop()\n",
    "    print(\"Element removed from the queue is\",r)\n",
    "def show():\n",
    "  print(queue)\n",
    "  \n",
    "\n",
    "while True:\n",
    "  print(\"Enter the operation 1.Add 2.Remove 3.Show 4.Quit\")\n",
    "  choice=int(input())\n",
    "  if choice==1:\n",
    "    enqueue()\n",
    "  elif choice==2:\n",
    "    dequeue()\n",
    "  elif choice==3:\n",
    "    show()\n",
    "  elif choice==4:\n",
    "    break\n",
    "  else:\n",
    "    print(\"Enter the correct choice\")"
   ]
  },
  {
   "cell_type": "code",
   "execution_count": 7,
   "metadata": {},
   "outputs": [
    {
     "name": "stdout",
     "output_type": "stream",
     "text": [
      "deque([30, 20, 10])\n",
      "elements removed in the order 10 20 30\n",
      "3\n",
      "1\n",
      "deque([1, 2, 3])\n",
      "Elements removed in the order 1 2 3\n"
     ]
    }
   ],
   "source": [
    "#Queue Implementation using module\n",
    "\n",
    "#deque double ended queue\n",
    "#can enter and remove data from both sides\n",
    "#appendleft popleft --> to perform from left side\n",
    "#append pop --> perform from right side\n",
    "\n",
    "#appendleft and pop example\n",
    "import collections\n",
    "q= collections.deque()\n",
    "q.appendleft(10)  #elements added in left side\n",
    "q.appendleft(20)\n",
    "q.appendleft(30)\n",
    "print(q)\n",
    "a=q.pop()\n",
    "b=q.pop()\n",
    "c=q.pop()\n",
    "print(\"elements removed in the order\",a,b,c)\n",
    "\n",
    "#append and popleft example\n",
    "import collections\n",
    "q=collections.deque()\n",
    "q.append(1)\n",
    "q.append(2)\n",
    "q.append(3)\n",
    "print(q[-1]) #last element inserted in queue\n",
    "print(q[0]) #next element to be removed from queue\n",
    "print(q)\n",
    "a=q.popleft()\n",
    "b=q.popleft()\n",
    "c=q.popleft()\n",
    "print(\"Elements removed in the order\",a,b,c)"
   ]
  },
  {
   "cell_type": "code",
   "execution_count": 8,
   "metadata": {},
   "outputs": [
    {
     "name": "stdout",
     "output_type": "stream",
     "text": [
      "<queue.Queue object at 0x000001E9BD173488>\n",
      "10 20 30\n"
     ]
    }
   ],
   "source": [
    "#Queue imple using Class\n",
    "#using Queue class \n",
    "#put and get\n",
    "import queue\n",
    "q=queue.Queue()\n",
    "q.put(10)\n",
    "q.put(20)\n",
    "q.put(30)\n",
    "print(q)\n",
    "a=q.get()\n",
    "b=q.get()\n",
    "c=q.get()\n",
    "print(a,b,c)"
   ]
  },
  {
   "cell_type": "code",
   "execution_count": 9,
   "metadata": {},
   "outputs": [
    {
     "name": "stdout",
     "output_type": "stream",
     "text": [
      "[14, 50, 75]\n",
      "14 50 75\n",
      "<queue.PriorityQueue object at 0x000001E9BD2AD8C8>\n",
      "0 1 3 5 7\n",
      "[(1, 'Jeeva'), (3, 'Love'), (5, 'Dhaaru')]\n",
      "[(5, 'Dhaaru'), (3, 'Love'), (1, 'Jeeva')]\n"
     ]
    }
   ],
   "source": [
    "#Priority Queue\n",
    "#small element high priority --> sort in asc\n",
    "#large element hight priority --> sort in desc\n",
    "#Priority queue implemented using\n",
    "#1)List\n",
    "#2)Priority queue class from queue module\n",
    "#this is not best method --> binary heap is best\n",
    "#list\n",
    "q=[]\n",
    "q.append(14)\n",
    "q.append(75)\n",
    "q.append(50)\n",
    "q.sort()\n",
    "print(q)\n",
    "a=q.pop(0)\n",
    "b=q.pop(0)\n",
    "c=q.pop(0)\n",
    "print(a,b,c)\n",
    "\n",
    "#using priority queue\n",
    "import queue\n",
    "q=queue.PriorityQueue() #creating empty queue\n",
    "q.put(1)\n",
    "q.put(5)\n",
    "q.put(3)\n",
    "q.put(0)\n",
    "q.put(7)\n",
    "print(q)\n",
    "a=q.get()  #pops in ascending order coz of priority queue class\n",
    "b=q.get()\n",
    "c=q.get()\n",
    "d=q.get()\n",
    "e=q.get()\n",
    "print(a,b,c,d,e)\n",
    "\n",
    "#using tuple to make priority keys\n",
    "q=[]\n",
    "q.append((1,\"Jeeva\"))\n",
    "q.append((5,\"Dhaaru\"))\n",
    "q.append((3,\"Love\"))\n",
    "q.sort()\n",
    "print(q)\n",
    "q.sort(reverse=True)\n",
    "print(q)"
   ]
  },
  {
   "cell_type": "code",
   "execution_count": null,
   "metadata": {},
   "outputs": [],
   "source": []
  }
 ],
 "metadata": {
  "kernelspec": {
   "display_name": "Python 3",
   "language": "python",
   "name": "python3"
  },
  "language_info": {
   "codemirror_mode": {
    "name": "ipython",
    "version": 3
   },
   "file_extension": ".py",
   "mimetype": "text/x-python",
   "name": "python",
   "nbconvert_exporter": "python",
   "pygments_lexer": "ipython3",
   "version": "3.7.6"
  }
 },
 "nbformat": 4,
 "nbformat_minor": 4
}
